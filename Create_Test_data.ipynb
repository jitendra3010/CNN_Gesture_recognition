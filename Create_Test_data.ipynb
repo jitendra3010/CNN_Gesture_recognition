{
 "cells": [
  {
   "cell_type": "markdown",
   "id": "ac5d189c",
   "metadata": {},
   "source": [
    "**Note : This code creates a .DS_store file which will be a problem while reading the files in code , so go ahead and delete that file form folder directory**"
   ]
  },
  {
   "cell_type": "code",
   "execution_count": 118,
   "id": "654154f7",
   "metadata": {},
   "outputs": [
    {
     "name": "stderr",
     "output_type": "stream",
     "text": [
      "[ WARN:0@47074.873] global /private/var/folders/k1/30mswbxs7r1g6zwn8y4fyt500000gp/T/abs_11nitadzeg/croot/opencv-suite_1691620374638/work/modules/videoio/src/cap_gstreamer.cpp (862) isPipelinePlaying OpenCV | GStreamer warning: GStreamer: pipeline have not been created\n"
     ]
    },
    {
     "name": "stdout",
     "output_type": "stream",
     "text": [
      "Saved ./input/test/frames_left1/frame_0000.jpg\n",
      "Saved ./input/test/frames_left1/frame_0001.jpg\n",
      "Saved ./input/test/frames_left1/frame_0002.jpg\n",
      "Saved ./input/test/frames_left1/frame_0003.jpg\n",
      "Saved ./input/test/frames_left1/frame_0004.jpg\n",
      "Saved ./input/test/frames_left1/frame_0005.jpg\n",
      "Saved ./input/test/frames_left1/frame_0006.jpg\n",
      "Saved ./input/test/frames_left1/frame_0007.jpg\n",
      "Saved ./input/test/frames_left1/frame_0008.jpg\n",
      "Saved ./input/test/frames_left1/frame_0009.jpg\n",
      "Saved ./input/test/frames_left1/frame_0010.jpg\n",
      "Saved ./input/test/frames_left1/frame_0011.jpg\n",
      "Saved ./input/test/frames_left1/frame_0012.jpg\n",
      "Saved ./input/test/frames_left1/frame_0013.jpg\n",
      "Saved ./input/test/frames_left1/frame_0014.jpg\n",
      "Saved ./input/test/frames_left1/frame_0015.jpg\n",
      "Saved ./input/test/frames_left1/frame_0016.jpg\n",
      "Saved ./input/test/frames_left1/frame_0017.jpg\n",
      "Saved ./input/test/frames_left1/frame_0018.jpg\n",
      "Saved ./input/test/frames_left1/frame_0019.jpg\n",
      "Saved ./input/test/frames_left1/frame_0020.jpg\n",
      "Saved ./input/test/frames_left1/frame_0021.jpg\n",
      "Saved ./input/test/frames_left1/frame_0022.jpg\n",
      "Saved ./input/test/frames_left1/frame_0023.jpg\n",
      "Saved ./input/test/frames_left1/frame_0024.jpg\n",
      "Saved ./input/test/frames_left1/frame_0025.jpg\n",
      "Saved ./input/test/frames_left1/frame_0026.jpg\n",
      "Saved ./input/test/frames_left1/frame_0027.jpg\n",
      "Saved ./input/test/frames_left1/frame_0028.jpg\n",
      "Saved ./input/test/frames_left1/frame_0029.jpg\n",
      "Saved ./input/test/frames_left1/frame_0030.jpg\n",
      "Saved ./input/test/frames_left1/frame_0031.jpg\n",
      "Saved ./input/test/frames_left1/frame_0032.jpg\n"
     ]
    }
   ],
   "source": [
    "import cv2\n",
    "import os\n",
    "\n",
    "def capture_frames(output_folder, num_frames=30, quality=20):\n",
    "    # Ensure the output directory exists\n",
    "    if not os.path.exists(output_folder):\n",
    "        os.makedirs(output_folder)\n",
    "\n",
    "    # Initialize webcam\n",
    "    cap = cv2.VideoCapture(0)  # '0' is typically the default value for the webcam\n",
    "\n",
    "    if not cap.isOpened():\n",
    "        print(\"Error: Could not open webcam.\")\n",
    "        return\n",
    "\n",
    "    frame_count = 0\n",
    "\n",
    "    while frame_count < num_frames:\n",
    "        ret, frame = cap.read()\n",
    "        if not ret:\n",
    "            print(\"Failed to grab frame\")\n",
    "            break\n",
    "\n",
    "        # Save the frame with lower quality\n",
    "        frame_path = os.path.join(output_folder, f\"frame_{frame_count:04d}.jpg\")\n",
    "        cv2.imwrite(frame_path, frame, [int(cv2.IMWRITE_JPEG_QUALITY), quality])\n",
    "        print(f\"Saved {frame_path}\")\n",
    "\n",
    "        frame_count += 1\n",
    "\n",
    "    cap.release()\n",
    "    cv2.destroyAllWindows()\n",
    "\n",
    "if __name__ == '__main__':\n",
    "    output_folder = './input/test/frames_left1'\n",
    "    capture_frames(output_folder, num_frames=33, quality=90)\n"
   ]
  },
  {
   "cell_type": "code",
   "execution_count": 90,
   "id": "b578410b",
   "metadata": {},
   "outputs": [],
   "source": [
    "# import os\n",
    "\n",
    "# def rename_files_to_jpg(directory):\n",
    "#     for filename in os.listdir(directory):\n",
    "#         if filename.endswith(\"jpg\"):\n",
    "#             base = os.path.splitext(filename)[0]  # Get the base name without extension\n",
    "#             new_name = base + \".png\"\n",
    "#             os.rename(os.path.join(directory, filename), os.path.join(directory, new_name))\n",
    "#             print(f\"Renamed {filename} to {new_name}\")\n",
    "\n",
    "# if __name__ == '__main__':\n",
    "#     directory = './input/test/frames_thumbsup3'  # Specify the directory containing the files\n",
    "#     rename_files_to_jpg(directory)\n"
   ]
  },
  {
   "cell_type": "code",
   "execution_count": 41,
   "id": "54876e0a",
   "metadata": {},
   "outputs": [
    {
     "name": "stdout",
     "output_type": "stream",
     "text": [
      "Converted frame_0028.jpg to frame_0028.jpg\n",
      "Converted frame_0014.jpg to frame_0014.jpg\n",
      "Converted frame_0001.jpg to frame_0001.jpg\n",
      "Converted frame_0015.jpg to frame_0015.jpg\n",
      "Converted frame_0029.jpg to frame_0029.jpg\n",
      "Converted frame_0003.jpg to frame_0003.jpg\n",
      "Converted frame_0017.jpg to frame_0017.jpg\n",
      "Converted frame_0016.jpg to frame_0016.jpg\n",
      "Converted frame_0002.jpg to frame_0002.jpg\n",
      "Converted frame_0006.jpg to frame_0006.jpg\n",
      "Converted frame_0012.jpg to frame_0012.jpg\n",
      "Converted frame_0013.jpg to frame_0013.jpg\n",
      "Converted frame_0007.jpg to frame_0007.jpg\n",
      "Converted frame_0011.jpg to frame_0011.jpg\n",
      "Converted frame_0005.jpg to frame_0005.jpg\n",
      "Converted frame_0004.jpg to frame_0004.jpg\n",
      "Converted frame_0010.jpg to frame_0010.jpg\n",
      "Converted frame_0009.jpg to frame_0009.jpg\n",
      "Converted frame_0021.jpg to frame_0021.jpg\n",
      "Converted frame_0020.jpg to frame_0020.jpg\n",
      "Converted frame_0008.jpg to frame_0008.jpg\n",
      "Converted frame_0022.jpg to frame_0022.jpg\n",
      "Converted frame_0023.jpg to frame_0023.jpg\n",
      "Converted frame_0027.jpg to frame_0027.jpg\n",
      "Converted frame_0026.jpg to frame_0026.jpg\n",
      "Converted frame_0030.jpg to frame_0030.jpg\n",
      "Converted frame_0024.jpg to frame_0024.jpg\n",
      "Converted frame_0018.jpg to frame_0018.jpg\n",
      "Converted frame_0019.jpg to frame_0019.jpg\n",
      "Converted frame_0025.jpg to frame_0025.jpg\n"
     ]
    }
   ],
   "source": [
    "# import os\n",
    "# from PIL import Image\n",
    "\n",
    "# def convert_png_to_jpg(directory):\n",
    "#     for filename in os.listdir(directory):\n",
    "#         if filename.endswith(\".jpg\"):\n",
    "#             # Full path to the image\n",
    "#             img_path = os.path.join(directory, filename)\n",
    "            \n",
    "#             # Open the image\n",
    "#             with Image.open(img_path) as img:\n",
    "#                 # Convert to RGB (in case the PNG is RGBA)\n",
    "#                 img = img.convert(\"RGB\")\n",
    "                \n",
    "#                 # Base name without extension\n",
    "#                 base = os.path.splitext(filename)[0]\n",
    "                \n",
    "#                 # New name with .jpg extension\n",
    "#                 new_name = base + \".jpg\"\n",
    "                \n",
    "#                 # Full path for the new image\n",
    "#                 new_img_path = os.path.join(directory, new_name)\n",
    "                \n",
    "#                 # Optionally, remove the original file\n",
    "#                 os.remove(img_path)\n",
    "                \n",
    "#                 # Save the image in JPG format\n",
    "#                 img.save(new_img_path, \"JPEG\", quality=95)\n",
    "#                 print(f\"Converted {filename} to {new_name}\")\n",
    "                \n",
    "\n",
    "# if __name__ == '__main__':\n",
    "#     directory = './input/test/frames_thumbsup3'  # Specify the directory containing the files\n",
    "#     convert_png_to_jpg(directory)\n"
   ]
  }
 ],
 "metadata": {
  "kernelspec": {
   "display_name": "Python 3 (ipykernel)",
   "language": "python",
   "name": "python3"
  },
  "language_info": {
   "codemirror_mode": {
    "name": "ipython",
    "version": 3
   },
   "file_extension": ".py",
   "mimetype": "text/x-python",
   "name": "python",
   "nbconvert_exporter": "python",
   "pygments_lexer": "ipython3",
   "version": "3.11.5"
  }
 },
 "nbformat": 4,
 "nbformat_minor": 5
}
