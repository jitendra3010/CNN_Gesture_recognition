{
 "cells": [
  {
   "cell_type": "code",
   "execution_count": 8,
   "id": "a474842c",
   "metadata": {},
   "outputs": [],
   "source": [
    "import os\n",
    "import pandas as pd\n",
    "\n",
    "def getlabel(gest):\n",
    "    \n",
    "    labels = ['left', 'right', 'stop', 'thumbsdown', 'thumbsup']\n",
    "    \n",
    "    return labels.index(gest)\n",
    "    \n",
    "\n",
    "# Function to extract the substring after the underscore\n",
    "def extract_substring_after_underscore(name):\n",
    "    parts = name.split('_')\n",
    "    if len(parts) > 1:\n",
    "        return parts[1][:-1]\n",
    "    return None  # Return None if there's no underscore\n",
    "\n",
    "# Function to get folder names in the specified directory\n",
    "def get_folder_names(directory):\n",
    "    # List to store folder names\n",
    "    folder_names = []\n",
    "    gesture_name = []\n",
    "    label_num = []\n",
    "    \n",
    "    # Iterate through the directory\n",
    "    for entry in os.scandir(directory):\n",
    "        # Check if entry is a directory\n",
    "        if entry.is_dir():\n",
    "            folder_names.append(entry.name)\n",
    "            gest_name = extract_substring_after_underscore(entry.name)\n",
    "            gesture_name.append(gest_name)\n",
    "            label_num.append(getlabel(gest_name))\n",
    "    \n",
    "    return folder_names, gesture_name, label_num\n",
    "\n",
    "# Function to save folder names to a CSS file\n",
    "def save_to_css(folder_names, gesture_name, labels, csv_file_path):\n",
    "    \n",
    "    df = pd.DataFrame(list(zip(folder_names, gesture_name, labels)))\n",
    "    df.to_csv(csv_file_path, sep=';', index=False, header=False)\n",
    "\n",
    "# Main function to read folders and save names to CSS\n",
    "def main(directory, csv_file_path):\n",
    "    folder_names, gesture_name, labels = get_folder_names(directory)\n",
    "    save_to_css(folder_names, gesture_name, labels, csv_file_path)\n",
    "\n",
    "# Example usage\n",
    "directory_path = 'test'  # Replace with the path to your folder\n",
    "csv_file_path = 'test.csv'  # Replace with the desired output CSS file path\n",
    "\n",
    "main(directory_path, csv_file_path)\n"
   ]
  },
  {
   "cell_type": "code",
   "execution_count": null,
   "id": "2afa9e73",
   "metadata": {},
   "outputs": [],
   "source": [
    "\n"
   ]
  }
 ],
 "metadata": {
  "kernelspec": {
   "display_name": "Python 3 (ipykernel)",
   "language": "python",
   "name": "python3"
  },
  "language_info": {
   "codemirror_mode": {
    "name": "ipython",
    "version": 3
   },
   "file_extension": ".py",
   "mimetype": "text/x-python",
   "name": "python",
   "nbconvert_exporter": "python",
   "pygments_lexer": "ipython3",
   "version": "3.11.5"
  }
 },
 "nbformat": 4,
 "nbformat_minor": 5
}
